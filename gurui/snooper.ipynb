{
 "nbformat": 4,
 "nbformat_minor": 2,
 "metadata": {
  "language_info": {
   "name": "python",
   "codemirror_mode": {
    "name": "ipython",
    "version": 3
   },
   "version": "3.7.6-final"
  },
  "orig_nbformat": 2,
  "file_extension": ".py",
  "mimetype": "text/x-python",
  "name": "python",
  "npconvert_exporter": "python",
  "pygments_lexer": "ipython3",
  "version": 3,
  "kernelspec": {
   "name": "python37664bit119cc4f9b55642989c7055aeb62c697b",
   "display_name": "Python 3.7.6 64-bit"
  }
 },
 "cells": [
  {
   "cell_type": "code",
   "execution_count": 8,
   "metadata": {},
   "outputs": [
    {
     "output_type": "stream",
     "name": "stdout",
     "text": "(32, 32, 1)\n"
    }
   ],
   "source": [
    "import numpy as np\n",
    "import tensorflow as tf\n",
    "import tensorflow.keras.backend as K\n",
    "upsample_size = 1\n",
    "mask_size = np.ceil(np.array((32, 32), dtype=float) /upsample_size)\n",
    "mask_size = mask_size.astype(int)\n",
    "mask = np.zeros(mask_size)\n",
    "pattern = np.zeros((32, 32, 3))\n",
    "mask = np.expand_dims(mask, axis=2) #mask.shape=(32,32,1)\n",
    "print(mask.shape)\n",
    "# 拷贝和mask和pattern一样维度的mask_tanh 和pattern_tanh\n",
    "mask_tanh = np.zeros_like(mask)     \n",
    "pattern_tanh = np.zeros_like(pattern)\n",
    "mask_tanh_tensor = K.variable(mask_tanh)   #返回一个K变量实例，包含keras meta data\n",
    "mask_tensor_unrepeat = (K.tanh(mask_tanh_tensor) \\\n",
    "            / (2 - K.epsilon()) + 0.5)\n",
    "# 这里调用不了mask_tensor_unrepeat.eval()方法，很绝望\n",
    "mask_tensor_unexpand = K.repeat_elements(\n",
    "            mask_tensor_unrepeat,\n",
    "            rep=3,\n",
    "            axis=2)"
   ]
  },
  {
   "cell_type": "code",
   "execution_count": null,
   "metadata": {},
   "outputs": [],
   "source": []
  }
 ]
}