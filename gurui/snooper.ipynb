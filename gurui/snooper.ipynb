{
 "cells": [
  {
   "cell_type": "code",
   "execution_count": 33,
   "metadata": {},
   "outputs": [
    {
     "output_type": "stream",
     "name": "stdout",
     "text": "(32, 32, 1)\n(32, 32, 1)\n(32, 32, 3)\n"
    }
   ],
   "source": [
    "import numpy as np\n",
    "import tensorflow as tf\n",
    "import tensorflow.keras.backend as K\n",
    "from tensorflow.keras.layers import UpSampling2D, Cropping2D\n",
    "upsample_size = 1\n",
    "mask_size = np.ceil(np.array((32, 32), dtype=float) /upsample_size)\n",
    "mask_size = mask_size.astype(int)\n",
    "mask = np.zeros(mask_size)\n",
    "pattern = np.zeros((32, 32, 3))\n",
    "mask = np.expand_dims(mask, axis=2) #mask.shape=(32,32,1)\n",
    "print(mask.shape)   #(32,32,1)\n",
    "# 拷贝和mask和pattern一样维度的mask_tanh 和pattern_tanh\n",
    "mask_tanh = np.zeros_like(mask)     \n",
    "pattern_tanh = np.zeros_like(pattern)\n",
    "mask_tanh_tensor = K.variable(mask_tanh)   #返回一个K变量实例，包含keras meta data\n",
    "mask_tensor_unrepeat = (K.tanh(mask_tanh_tensor) \\\n",
    "            / (2 - K.epsilon()) + 0.5)\n",
    "# 这里调用不了mask_tensor_unrepeat.eval()方法，很绝望\n",
    "mask_tensor_unexpand = K.repeat_elements(\n",
    "            mask_tensor_unrepeat,\n",
    "            rep=3,\n",
    "            axis=2)\n",
    "print(mask_tensor_unrepeat.shape)   #(32,32,1)\n",
    "print(mask_tensor_unexpand.shape)   #(32,32,3)\n",
    "\n"
   ]
  },
  {
   "cell_type": "code",
   "execution_count": 34,
   "metadata": {},
   "outputs": [
    {
     "output_type": "stream",
     "name": "stdout",
     "text": "(1, 32, 32, 3)\n<tensorflow.python.keras.layers.convolutional.UpSampling2D object at 0x000001C65CA55FC8>\n(32, 32, 3)\n"
    }
   ],
   "source": [
    "mask_tensor=K.expand_dims(mask_tensor_unexpand,axis=0)\n",
    "print(mask_tensor.shape)        #(1,32,32,3)\n",
    "upsample_layer = UpSampling2D(\n",
    "            size=(upsample_size, upsample_size))\n",
    "print(upsample_layer)\n",
    "mask_upsample_tensor_uncrop = upsample_layer(mask_tensor)\n",
    "uncrop_shape = K.int_shape(mask_upsample_tensor_uncrop)[1:]\n",
    "print(uncrop_shape)"
   ]
  },
  {
   "cell_type": "code",
   "execution_count": 35,
   "metadata": {},
   "outputs": [
    {
     "output_type": "stream",
     "name": "stdout",
     "text": "32,32\n"
    }
   ],
   "source": [
    "cropping_layer = Cropping2D(\n",
    "            cropping=((0, uncrop_shape[0] - 32),\n",
    "                      (0, uncrop_shape[1] - 32)))\n",
    "print('%d,%d'%(uncrop_shape[0],uncrop_shape[1]))"
   ]
  },
  {
   "cell_type": "code",
   "execution_count": 36,
   "metadata": {},
   "outputs": [
    {
     "output_type": "stream",
     "name": "stdout",
     "text": "(32, 32, 3)\n(32, 32, 3)\n"
    }
   ],
   "source": [
    "mask_upsample_tensor=cropping_layer(mask_upsample_tensor_uncrop)\n",
    "pattern_tanh_tensor = K.variable(pattern_tanh)\n",
    "print(pattern_tanh_tensor.shape)\n",
    "pattern_raw_tensor=(K.tanh(pattern_tanh_tensor)/(2-K.epsilon()+0.5)*255.0)\n",
    "print(pattern_raw_tensor.shape)"
   ]
  },
  {
   "cell_type": "code",
   "execution_count": 37,
   "metadata": {},
   "outputs": [
    {
     "output_type": "stream",
     "name": "stdout",
     "text": "(?, 32, 32, 3)\n(?, 32, 32, 3)\n"
    }
   ],
   "source": [
    "input_tensor = K.placeholder((None,32,32,3))\n",
    "input_raw_tensor = input_tensor\n",
    "\n",
    "print(input_tensor.shape)\n",
    "print(input_raw_tensor.shape)"
   ]
  }
 ],
 "metadata": {
  "language_info": {
   "name": "python",
   "codemirror_mode": {
    "name": "ipython",
    "version": 3
   },
   "version": "3.7.6-final"
  },
  "orig_nbformat": 2,
  "file_extension": ".py",
  "mimetype": "text/x-python",
  "name": "python",
  "npconvert_exporter": "python",
  "pygments_lexer": "ipython3",
  "version": 3,
  "kernelspec": {
   "name": "python37664bit119cc4f9b55642989c7055aeb62c697b",
   "display_name": "Python 3.7.6 64-bit"
  }
 },
 "nbformat": 4,
 "nbformat_minor": 2
}