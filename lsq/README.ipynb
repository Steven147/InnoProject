{
 "cells": [
  {
   "cell_type": "markdown",
   "metadata": {},
   "source": [
    "# jupyter note sync with github\n",
    "[用GitPython操作Git库 · 零壹軒·笔记](https://note.qidong.name/2018/01/gitpython/)\n",
    "\n",
    "## linux\n",
    "\n",
    "## server\n",
    "\n"
   ]
  },
  {
   "cell_type": "markdown",
   "metadata": {},
   "source": [
    "# git\n",
    "[创建版本库 - 廖雪峰的官方网站](https://www.liaoxuefeng.com/wiki/896043488029600/896827951938304)"
   ]
  },
  {
   "cell_type": "code",
   "execution_count": 1,
   "metadata": {
    "scrolled": true
   },
   "outputs": [
    {
     "name": "stdout",
     "output_type": "stream",
     "text": [
      "# On branch master\r\n",
      "#\r\n",
      "# Initial commit\r\n",
      "#\r\n",
      "# Changes to be committed:\r\n",
      "#   (use \"git rm --cached <file>...\" to unstage)\r\n",
      "#\r\n",
      "#\tnew file:   .ipynb_checkpoints/README-checkpoint.ipynb\r\n",
      "#\tnew file:   .ipynb_checkpoints/lsq_note-checkpoint.ipynb\r\n",
      "#\tnew file:   README.ipynb\r\n",
      "#\tnew file:   TABOR\r\n",
      "#\tnew file:   database_sqlite/.ipynb_checkpoints/database_sqlite-checkpoint.ipynb\r\n",
      "#\tnew file:   database_sqlite/.ipynb_checkpoints/search-checkpoint.ipynb\r\n",
      "#\tnew file:   database_sqlite/database_sqlite.ipynb\r\n",
      "#\tnew file:   database_sqlite/search.ipynb\r\n",
      "#\tnew file:   database_sqlite/test.db\r\n",
      "#\tnew file:   database_sqlite/test2.db\r\n",
      "#\tnew file:   lsq_note.ipynb\r\n",
      "#\tnew file:   lsq_note.md\r\n",
      "#\tnew file:   web/.ipynb_checkpoints/web-checkpoint.ipynb\r\n",
      "#\tnew file:   web/HelloWorld/.ipynb_checkpoints/startproject-checkpoint.ipynb\r\n",
      "#\tnew file:   web/HelloWorld/HelloWorld/__init__.py\r\n",
      "#\tnew file:   web/HelloWorld/HelloWorld/__pycache__/__init__.cpython-36.pyc\r\n",
      "#\tnew file:   web/HelloWorld/HelloWorld/__pycache__/settings.cpython-36.pyc\r\n",
      "#\tnew file:   web/HelloWorld/HelloWorld/__pycache__/urls.cpython-36.pyc\r\n",
      "#\tnew file:   web/HelloWorld/HelloWorld/__pycache__/view.cpython-36.pyc\r\n",
      "#\tnew file:   web/HelloWorld/HelloWorld/__pycache__/wsgi.cpython-36.pyc\r\n",
      "#\tnew file:   web/HelloWorld/HelloWorld/asgi.py\r\n",
      "#\tnew file:   web/HelloWorld/HelloWorld/settings.py\r\n",
      "#\tnew file:   web/HelloWorld/HelloWorld/urls.py\r\n",
      "#\tnew file:   web/HelloWorld/HelloWorld/view.py\r\n",
      "#\tnew file:   web/HelloWorld/HelloWorld/wsgi.py\r\n",
      "#\tnew file:   web/HelloWorld/db.sqlite3\r\n",
      "#\tnew file:   web/HelloWorld/manage.py\r\n",
      "#\tnew file:   web/HelloWorld/startproject.ipynb\r\n",
      "#\tnew file:   web/web.ipynb\r\n",
      "#\r\n",
      "# Changes not staged for commit:\r\n",
      "#   (use \"git add <file>...\" to update what will be committed)\r\n",
      "#   (use \"git checkout -- <file>...\" to discard changes in working directory)\r\n",
      "#   (commit or discard the untracked or modified content in submodules)\r\n",
      "#\r\n",
      "#\tmodified:   .ipynb_checkpoints/README-checkpoint.ipynb\r\n",
      "#\tmodified:   README.ipynb\r\n",
      "#\tmodified:   TABOR (modified content, untracked content)\r\n",
      "#\r\n"
     ]
    }
   ],
   "source": [
    "!git status"
   ]
  },
  {
   "cell_type": "code",
   "execution_count": 6,
   "metadata": {
    "collapsed": true
   },
   "outputs": [
    {
     "name": "stdout",
     "output_type": "stream",
     "text": [
      "diff --git a/README.ipynb b/README.ipynb\r\n",
      "index e2b2f9a..64e5d8e 100644\r\n",
      "--- a/README.ipynb\r\n",
      "+++ b/README.ipynb\r\n",
      "@@ -22,29 +22,43 @@\r\n",
      "      \"name\": \"stdout\",\r\n",
      "      \"output_type\": \"stream\",\r\n",
      "      \"text\": [\r\n",
      "-      \"Collecting GitPython\\n\",\r\n",
      "-      \"  Using cached GitPython-3.1.0-py3-none-any.whl (450 kB)\\n\",\r\n",
      "-      \"Collecting gitdb<5,>=4.0.1\\n\",\r\n",
      "-      \"  Using cached gitdb-4.0.2-py3-none-any.whl (63 kB)\\n\",\r\n",
      "-      \"Collecting smmap<4,>=3.0.1\\n\",\r\n",
      "-      \"  Using cached smmap-3.0.1-py2.py3-none-any.whl (25 kB)\\n\",\r\n",
      "-      \"Installing collected packages: smmap, gitdb, GitPython\\n\",\r\n",
      "-      \"Successfully installed GitPython-3.1.0 gitdb-4.0.2 smmap-3.0.1\\n\"\r\n",
      "+      \"# On branch master\\r\\n\",\r\n",
      "+      \"#\\r\\n\",\r\n",
      "+      \"# Initial commit\\r\\n\",\r\n",
      "+      \"#\\r\\n\",\r\n",
      "+      \"# Untracked files:\\r\\n\",\r\n",
      "+      \"#   (use \\\"git add <file>...\\\" to include in what will be committed)\\r\\n\",\r\n",
      "+      \"#\\r\\n\",\r\n",
      "+      \"#\\t.ipynb_checkpoints/\\r\\n\",\r\n",
      "+      \"#\\tREADME.ipynb\\r\\n\",\r\n",
      "+      \"#\\tTABOR/\\r\\n\",\r\n",
      "+      \"#\\tdatabase_sqlite/\\r\\n\",\r\n",
      "+      \"#\\tlsq_note.ipynb\\r\\n\",\r\n",
      "+      \"#\\tlsq_note.md\\r\\n\",\r\n",
      "+      \"#\\tweb/\\r\\n\",\r\n",
      "+      \"nothing added to commit but untracked files present (use \\\"git add\\\" to track)\\r\\n\"\r\n",
      "      ]\r\n",
      "     }\r\n",
      "    ],\r\n",
      "    \"source\": [\r\n",
      "-    \"!pip install GitPython\"\r\n",
      "+    \"!git commit\"\r\n",
      "    ]\r\n",
      "   },\r\n",
      "   {\r\n",
      "    \"cell_type\": \"code\",\r\n",
      "    \"execution_count\": 2,\r\n",
      "    \"metadata\": {},\r\n",
      "-   \"outputs\": [],\r\n",
      "+   \"outputs\": [\r\n",
      "+    {\r\n",
      "+     \"name\": \"stdout\",\r\n",
      "+     \"output_type\": \"stream\",\r\n",
      "+     \"text\": [\r\n",
      "+      \"/root/innoproject/lsq\\r\\n\"\r\n",
      "+     ]\r\n",
      "+    }\r\n",
      "+   ],\r\n",
      "    \"source\": [\r\n",
      "-    \"import git\\n\",\r\n",
      "-    \"new_repo = git.Repo.clone_from(url='https://github.com/Steven147/InnoProject.git', to_path='../github')\\n\"\r\n",
      "+    \"!pwd\"\r\n",
      "    ]\r\n",
      "   },\r\n",
      "   {\r\n",
      "@@ -53,21 +67,48 @@\r\n",
      "    \"metadata\": {},\r\n",
      "    \"outputs\": [\r\n",
      "     {\r\n",
      "-     \"data\": {\r\n",
      "-      \"text/plain\": [\r\n",
      "-       \"<git.Commit \\\"f95367ade7fc041a427e1e5068a301f302c16e19\\\">\"\r\n",
      "-      ]\r\n",
      "-     },\r\n",
      "-     \"execution_count\": 3,\r\n",
      "-     \"metadata\": {},\r\n",
      "-     \"output_type\": \"execute_result\"\r\n",
      "+     \"name\": \"stdout\",\r\n",
      "+     \"output_type\": \"stream\",\r\n",
      "+     \"text\": [\r\n",
      "+      \"# On branch master\\r\\n\",\r\n",
      "+      \"#\\r\\n\",\r\n",
      "+      \"# Initial commit\\r\\n\",\r\n",
      "+      \"#\\r\\n\",\r\n",
      "+      \"# Untracked files:\\r\\n\",\r\n",
      "+      \"#   (use \\\"git add <file>...\\\" to include in what will be committed)\\r\\n\",\r\n",
      "+      \"#\\r\\n\",\r\n",
      "+      \"#\\t.ipynb_checkpoints/\\r\\n\",\r\n",
      "+      \"#\\tREADME.ipynb\\r\\n\",\r\n",
      "+      \"#\\tTABOR/\\r\\n\",\r\n",
      "+      \"#\\tdatabase_sqlite/\\r\\n\",\r\n",
      "+      \"#\\tlsq_note.ipynb\\r\\n\",\r\n",
      "+      \"#\\tlsq_note.md\\r\\n\",\r\n",
      "+      \"#\\tweb/\\r\\n\",\r\n",
      "+      \"nothing added to commit but untracked files present (use \\\"git add\\\" to track)\\r\\n\"\r\n",
      "+     ]\r\n",
      "     }\r\n",
      "    ],\r\n",
      "    \"source\": [\r\n",
      "-    \"new_repo.index.commit('initialize')\"\r\n",
      "+    \"!git status\"\r\n",
      "    ]\r\n",
      "   },\r\n",
      "   {\r\n",
      "+   \"cell_type\": \"code\",\r\n",
      "+   \"execution_count\": 5,\r\n",
      "+   \"metadata\": {},\r\n",
      "+   \"outputs\": [],\r\n",
      "+   \"source\": [\r\n",
      "+    \"!git add .\"\r\n",
      "+   ]\r\n",
      "+  },\r\n",
      "+  {\r\n",
      "+   \"cell_type\": \"code\",\r\n",
      "+   \"execution_count\": null,\r\n",
      "+   \"metadata\": {},\r\n",
      "+   \"outputs\": [],\r\n",
      "+   \"source\": []\r\n",
      "+  },\r\n",
      "+  {\r\n",
      "    \"cell_type\": \"markdown\",\r\n",
      "    \"metadata\": {},\r\n",
      "    \"source\": [\r\n",
      "diff --git a/TABOR b/TABOR\r\n",
      "--- a/TABOR\r\n",
      "+++ b/TABOR\r\n",
      "@@ -1 +1 @@\r\n",
      "-Subproject commit 27b23895a3182d0f2d4c259b2f09ed1e859a94ad\r\n",
      "+Subproject commit 27b23895a3182d0f2d4c259b2f09ed1e859a94ad-dirty\r\n"
     ]
    }
   ],
   "source": [
    "!git diff"
   ]
  },
  {
   "cell_type": "code",
   "execution_count": 2,
   "metadata": {},
   "outputs": [
    {
     "name": "stdout",
     "output_type": "stream",
     "text": [
      "/root/innoproject/lsq\r\n"
     ]
    }
   ],
   "source": [
    "!pwd"
   ]
  },
  {
   "cell_type": "code",
   "execution_count": 5,
   "metadata": {},
   "outputs": [],
   "source": [
    "!git add ."
   ]
  },
  {
   "cell_type": "code",
   "execution_count": 7,
   "metadata": {
    "collapsed": true
   },
   "outputs": [
    {
     "name": "stdout",
     "output_type": "stream",
     "text": [
      "\u001b7\u001b[?47h\u001b[?1h\u001b=\u001b[1;24r\u001b[m\u001b[H\u001b[2J\u001b[24;1H\".git/COMMIT_EDITMSG\" 51L, 2142C\u001b[2;1H# Please enter the commit message for your changes. Lines starting\n",
      "# with '#' will be ignored, and an empty message aborts the commit.\n",
      "#\n",
      "# Committer: root <root@localhost.localdomain>\n",
      "#\n",
      "# On branch master\n",
      "#\n",
      "# Initial commit\n",
      "#\n",
      "# Changes to be committed:\n",
      "#   (use \"git rm --cached <file>...\" to unstage)\n",
      "#\n",
      "#\u001b[7Cnew file:   .ipynb_checkpoints/README-checkpoint.ipynb\n",
      "#\u001b[7Cnew file:   .ipynb_checkpoints/lsq_note-checkpoint.ipynb\n",
      "#\u001b[7Cnew file:   README.ipynb\n",
      "#\u001b[7Cnew file:   TABOR\n",
      "#\u001b[7Cnew file:   database_sqlite/.ipynb_checkpoints/database_sqlite-checkpoinn\u001b[19;1Ht.ipynb\n",
      "#\u001b[7Cnew file:   database_sqlite/.ipynb_checkpoints/search-checkpoint.ipynb\n",
      "#\u001b[7Cnew file:   database_sqlite/database_sqlite.ipynb\n",
      "#\u001b[7Cnew file:   database_sqlite/search.ipynb\n",
      "#\u001b[7Cnew file:   database_sqlite/test.db\u001b[1;1H\u001b[24;1HType  :quit<Enter>  to exit Vim\u001b[24;32H\u001b[K\u0007\u001b[1;1H"
     ]
    }
   ],
   "source": [
    "!git commit"
   ]
  },
  {
   "cell_type": "code",
   "execution_count": null,
   "metadata": {},
   "outputs": [],
   "source": [
    "!git remote add origin git@github.com:Steven147/Innoproject.git"
   ]
  },
  {
   "cell_type": "code",
   "execution_count": null,
   "metadata": {},
   "outputs": [
    {
     "name": "stdout",
     "output_type": "stream",
     "text": [
      "The authenticity of host 'github.com (13.250.177.223)' can't be established.\r\n",
      "RSA key fingerprint is SHA256:nThbg6kXUpJWGl7E1IGOCspRomTxdCARLviKw6E5SY8.\r\n",
      "RSA key fingerprint is MD5:16:27:ac:a5:76:28:2d:36:63:1b:56:4d:eb:df:a6:48.\r\n",
      "Are you sure you want to continue connecting (yes/no)? "
     ]
    }
   ],
   "source": [
    "!git push origin master\n",
    "!yes"
   ]
  },
  {
   "cell_type": "markdown",
   "metadata": {},
   "source": [
    "# 笔记 林绍钦\n",
    "\n",
    "[本文链接InnoProject/lsq\\_note.md](https://github.com/Steven147/InnoProject/blob/master/lsq/lsq_note.md)\n",
    "\n",
    "## 连接综述\n",
    "\n",
    "- termius\n",
    "  - `sudo su -`\n",
    "  - zft13917331612\n",
    "  - `conda activate lsq_py36_tfgpu`\n",
    "  - `jupyter notebook --no-browser --port=8889 --allow-root --certfile=mycert.pem --keyfile mykey.key`\n",
    "- terminal\n",
    "  - `ssh -N -f -L localhost:8888:localhost:8889 -p 10151 ipp20aitrojan@202.120.39.26`\n",
    "  - zft13917331612\n",
    "- [localhost](https://localhost:8888/)\n",
    "\n",
    "## SSH远程连接\n",
    "\n",
    "- Linux/MacOS 作为终端\n",
    "  - IP地址:`202.120.39.26:10151`,账号密码:`ipp20aitrojan`,`zft13917331612`\n",
    "  - 连接命令:`ssh -p 10151 ipp20aitrojan@202.120.39.26`\n",
    "  - 输入密码:`zft13917331612`\n",
    "  - 登入成功！:`[ipp20aitrojan@localhost ~]$ .....`\n",
    "\n",
    "- 终端软件：[Introduction - Termius Documentation](https://docs.termius.com/)\n",
    "\n",
    "## jupyter notebook 远程连接\n",
    "\n",
    "[远程访问服务器Jupyter Notebook的两种方法 - 简书](https://www.jianshu.com/p/8fc3cd032d3c)\n",
    "\n",
    "[Running a notebook server — Jupyter Notebook 7.0.0.dev0 documentation](https://jupyter-notebook.readthedocs.io/en/latest/public_server.html#notebook-server-security)\n",
    "\n",
    "- 打开终端1：将本地端口号8888映射到服务器8889该过程只需要执行一次(通过`killall ssh`可以取消执行)\n",
    "  - `ssh -N -f -L localhost:8888:localhost:8889 -p 10151 ipp20aitrojan@202.120.39.26`\n",
    "  - 输入密码:`zft13917331612`\n",
    "- 打开终端2\n",
    "  - 使用SSH连接\n",
    "    - 连接命令:`ssh -p 10151 ipp20aitrojan@202.120.39.26`\n",
    "    - 输入密码:`zft13917331612`\n",
    "  - 新建conda环境（python3），在新环境里下载jupyter notebook：`pip install notebook`\n",
    "  - 配置jupyter环境（省略，因为已经配好了）\n",
    "  - `jupyter notebook --no-browser --port=8889 --allow-root --certfile=mycert.pem --keyfile mykey.key`\n",
    "- 用网页打开链接[localhost](https://localhost:8888/)\n",
    "\n",
    "## Linux 基本使用\n",
    "\n",
    "- [27个常用的 Linux 命令 - 简书](https://www.jianshu.com/p/0056d671ea6d)\n",
    "\n",
    "- [Ranger 用法总结 | 盼 の 欲](http://www.huangpan.net/posts/ji-ke/2019-08-21-ranger.html)\n",
    "\n",
    "- `sudo su -`\n",
    "\n",
    "## tf环境搭建\n",
    "\n",
    "### 0 资源链接\n",
    "\n",
    "[Anaconda Python/R Distribution - Free Download](https://www.anaconda.com/distribution/)\n",
    "\n",
    "[Install TensorFlow 2](https://tensorflow.google.cn/install)\n",
    "\n",
    "[tensorflow-tutorials](https://tensorflow.google.cn/tutorials)\n",
    "\n",
    "### 1 pip安装tf-gpu流程\n",
    "\n",
    "- [Anaconda Python/R Distribution - Free Download](https://www.anaconda.com/distribution/)\n",
    "  - Windows 下载安装包进行安装（过程略\n",
    "  - Linux:\n",
    "    - `$ wget https://repo.continuum.io/archive/Anaconda3-5.1.0-Linux-x86_64.sh`\n",
    "    - 运行shell\n",
    "    - 将anaconda的bin目录加入PATH:`$ echo 'export PATH=\"~/anaconda3/bin:$PATH\"' >> ~/.bashrc`\n",
    "    - 更新bashrc以立即生效:`$ source ~/.bashrc`\n",
    "  - 检验:`conda --version`\n",
    "  - [Conda常用命令整理\\_运维\\_Working. Playing.-CSDN博客](https://blog.csdn.net/menc15/article/details/71477949)\n",
    "\n",
    "- （已经安装好了现成环境py36_tfgpu，拷贝为lsq_py36_tfgpu）`conda create --name lsq_py36_tfgpu --clone py36_tfgpu`\n",
    "- `conda activate lsq_py36_tfgpu`\n",
    "\n",
    "- [Install TensorFlow 2](https://tensorflow.google.cn/install)\n",
    "  - 检验安装\n",
    "\n",
    "    ```py\n",
    "    import tensorflow as tf\n",
    "    tf.test.is_gpu_available()\n",
    "    ```\n",
    "\n",
    "### 2 错误处理\n",
    "\n"
   ]
  },
  {
   "cell_type": "code",
   "execution_count": null,
   "metadata": {},
   "outputs": [],
   "source": []
  }
 ],
 "metadata": {
  "kernelspec": {
   "display_name": "Python 3",
   "language": "python",
   "name": "python3"
  },
  "language_info": {
   "codemirror_mode": {
    "name": "ipython",
    "version": 3
   },
   "file_extension": ".py",
   "mimetype": "text/x-python",
   "name": "python",
   "nbconvert_exporter": "python",
   "pygments_lexer": "ipython3",
   "version": "3.6.10"
  }
 },
 "nbformat": 4,
 "nbformat_minor": 4
}
