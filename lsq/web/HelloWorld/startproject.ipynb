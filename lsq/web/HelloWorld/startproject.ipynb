{
 "cells": [
  {
   "cell_type": "code",
   "execution_count": null,
   "metadata": {},
   "outputs": [
    {
     "name": "stdout",
     "output_type": "stream",
     "text": [
      "Watching for file changes with StatReloader\n",
      "Performing system checks...\n",
      "\n",
      "System check identified no issues (0 silenced).\n",
      "\u001b[31m\n",
      "You have 17 unapplied migration(s). Your project may not work properly until you apply the migrations for app(s): admin, auth, contenttypes, sessions.\u001b[0m\n",
      "\u001b[31mRun 'python manage.py migrate' to apply them.\n",
      "\u001b[0m\n",
      "April 10, 2020 - 12:06:55\n",
      "Django version 3.0.5, using settings 'HelloWorld.settings'\n",
      "Starting development server at http://127.0.0.1:8000/\n",
      "Quit the server with CONTROL-C.\n",
      "[10/Apr/2020 12:07:25] \u001b[m\"GET / HTTP/1.1\" 200 16351\u001b[0m\n",
      "[10/Apr/2020 12:07:25] \u001b[m\"GET /static/admin/css/fonts.css HTTP/1.1\" 200 423\u001b[0m\n",
      "[10/Apr/2020 12:07:26] \u001b[m\"GET /static/admin/fonts/Roboto-Bold-webfont.woff HTTP/1.1\" 200 86184\u001b[0m\n",
      "[10/Apr/2020 12:07:26] \u001b[m\"GET /static/admin/fonts/Roboto-Regular-webfont.woff HTTP/1.1\" 200 85876\u001b[0m\n",
      "[10/Apr/2020 12:07:26] \u001b[m\"GET /static/admin/fonts/Roboto-Light-webfont.woff HTTP/1.1\" 200 85692\u001b[0m\n",
      "Not Found: /favicon.ico\n",
      "[10/Apr/2020 12:07:26] \u001b[33m\"GET /favicon.ico HTTP/1.1\" 404 1976\u001b[0m\n",
      "/root/lsq/web/HelloWorld/HelloWorld/urls.py changed, reloading.\n",
      "Watching for file changes with StatReloader\n",
      "Performing system checks...\n",
      "\n",
      "System check identified no issues (0 silenced).\n",
      "\u001b[31m\n",
      "You have 17 unapplied migration(s). Your project may not work properly until you apply the migrations for app(s): admin, auth, contenttypes, sessions.\u001b[0m\n",
      "\u001b[31mRun 'python manage.py migrate' to apply them.\n",
      "\u001b[0m\n",
      "April 10, 2020 - 12:25:58\n",
      "Django version 3.0.5, using settings 'HelloWorld.settings'\n",
      "Starting development server at http://127.0.0.1:8000/\n",
      "Quit the server with CONTROL-C.\n",
      "[10/Apr/2020 12:26:12] \u001b[m\"GET / HTTP/1.1\" 200 14\u001b[0m\n",
      "/root/lsq/web/HelloWorld/HelloWorld/urls.py changed, reloading.\n",
      "Watching for file changes with StatReloader\n",
      "Performing system checks...\n",
      "\n",
      "System check identified no issues (0 silenced).\n",
      "\u001b[31m\n",
      "You have 17 unapplied migration(s). Your project may not work properly until you apply the migrations for app(s): admin, auth, contenttypes, sessions.\u001b[0m\n",
      "\u001b[31mRun 'python manage.py migrate' to apply them.\n",
      "\u001b[0m\n",
      "April 10, 2020 - 12:26:35\n",
      "Django version 3.0.5, using settings 'HelloWorld.settings'\n",
      "Starting development server at http://127.0.0.1:8000/\n",
      "Quit the server with CONTROL-C.\n",
      "Not Found: /\n",
      "[10/Apr/2020 12:26:38] \u001b[33m\"GET / HTTP/1.1\" 404 1925\u001b[0m\n",
      "[10/Apr/2020 12:26:47] \u001b[32m\"GET /hello HTTP/1.1\" 301 0\u001b[0m\n",
      "[10/Apr/2020 12:26:47] \u001b[m\"GET /hello/ HTTP/1.1\" 200 14\u001b[0m\n"
     ]
    }
   ],
   "source": [
    "!python manage.py runserver"
   ]
  },
  {
   "cell_type": "code",
   "execution_count": null,
   "metadata": {},
   "outputs": [],
   "source": []
  }
 ],
 "metadata": {
  "kernelspec": {
   "display_name": "Python 3",
   "language": "python",
   "name": "python3"
  },
  "language_info": {
   "codemirror_mode": {
    "name": "ipython",
    "version": 3
   },
   "file_extension": ".py",
   "mimetype": "text/x-python",
   "name": "python",
   "nbconvert_exporter": "python",
   "pygments_lexer": "ipython3",
   "version": "3.6.10"
  }
 },
 "nbformat": 4,
 "nbformat_minor": 4
}
