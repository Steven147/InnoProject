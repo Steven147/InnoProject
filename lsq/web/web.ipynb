{
 "cells": [
  {
   "cell_type": "code",
   "execution_count": 1,
   "metadata": {},
   "outputs": [
    {
     "name": "stdout",
     "output_type": "stream",
     "text": [
      "Collecting Django\n",
      "  Downloading Django-3.0.5-py3-none-any.whl (7.5 MB)\n",
      "\u001b[K     |████████████████████████████████| 7.5 MB 1.7 MB/s eta 0:00:01\n",
      "\u001b[?25hCollecting sqlparse>=0.2.2\n",
      "  Downloading sqlparse-0.3.1-py2.py3-none-any.whl (40 kB)\n",
      "\u001b[K     |████████████████████████████████| 40 kB 6.5 MB/s  eta 0:00:01\n",
      "\u001b[?25hRequirement already satisfied: pytz in /opt/anaconda3/envs/lsq_py36_tfgpu/lib/python3.6/site-packages (from Django) (2019.3)\n",
      "Collecting asgiref~=3.2\n",
      "  Downloading asgiref-3.2.7-py2.py3-none-any.whl (19 kB)\n",
      "Installing collected packages: sqlparse, asgiref, Django\n",
      "Successfully installed Django-3.0.5 asgiref-3.2.7 sqlparse-0.3.1\n"
     ]
    }
   ],
   "source": [
    "!pip install Django"
   ]
  },
  {
   "cell_type": "code",
   "execution_count": 2,
   "metadata": {},
   "outputs": [],
   "source": [
    "!django-admin startproject HelloWorld"
   ]
  }
 ],
 "metadata": {
  "kernelspec": {
   "display_name": "Python 3",
   "language": "python",
   "name": "python3"
  },
  "language_info": {
   "codemirror_mode": {
    "name": "ipython",
    "version": 3
   },
   "file_extension": ".py",
   "mimetype": "text/x-python",
   "name": "python",
   "nbconvert_exporter": "python",
   "pygments_lexer": "ipython3",
   "version": "3.6.10"
  }
 },
 "nbformat": 4,
 "nbformat_minor": 4
}
